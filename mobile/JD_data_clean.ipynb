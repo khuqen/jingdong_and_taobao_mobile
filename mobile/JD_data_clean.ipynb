{
 "cells": [
  {
   "cell_type": "code",
   "execution_count": 11,
   "metadata": {},
   "outputs": [],
   "source": [
    "import pandas as pd\n",
    "import csv\n",
    "import re"
   ]
  },
  {
   "cell_type": "code",
   "execution_count": 71,
   "metadata": {},
   "outputs": [],
   "source": [
    "def is_Chinese(word):\n",
    "    for ch in word:\n",
    "        if '\\u4e00' <= ch <= '\\u9fff':\n",
    "            return True\n",
    "    return False\n",
    "def is_letter_or_digit(ch):\n",
    "    return (ch >= 'a' and ch <= 'z') or  (ch >= 'A' and ch <= 'Z') or (ch >= '0' and ch <= '9')\n",
    "\n",
    "def clearName(names):\n",
    "    items = names.split('#')\n",
    "    r = re.findall(r'\\d+G', items[1])\n",
    "    origin_name = items[0].replace(' ', '')\n",
    "    if len(r) >= 1:\n",
    "        r = r[-1]\n",
    "    else:\n",
    "        return None\n",
    "    \n",
    "    brands = ['AppleiPhone', '荣耀', 'Huawei/华为', '红米', 'Xiaomi/小米', 'vivo', 'OPPO', '一加', '魅族', 'realme', '锤子', '中兴']\n",
    "    idx = -1\n",
    "    start = -1\n",
    "    for brand in brands:\n",
    "        idx = origin_name.find(brand)\n",
    "        if idx != -1:\n",
    "            start = idx\n",
    "            idx = idx + len(brand)\n",
    "            break\n",
    "    if idx == -1:\n",
    "        return None\n",
    "    while idx < len(origin_name) and is_Chinese(origin_name[idx]):\n",
    "        idx = idx + 1\n",
    "    while idx < len(origin_name) and is_letter_or_digit(origin_name[idx]):\n",
    "        idx = idx + 1\n",
    "    return origin_name[start:idx] + ' ' + r"
   ]
  },
  {
   "cell_type": "code",
   "execution_count": 77,
   "metadata": {},
   "outputs": [],
   "source": [
    "file = open('JDMobileData.csv', 'r', encoding='utf8')\n",
    "lines = file.readlines()\n",
    "f = open('JDMobileData-2.csv', 'w', encoding='utf8', newline='')\n",
    "w = csv.writer(f)\n",
    "w.writerow(['store', 'name', 'sales', 'price'])\n",
    "for line in lines[1:]:\n",
    "    store,name, sales, price = line.split(',')\n",
    "    price = int(float(price[:-1]))\n",
    "    name = name.replace('（HUAWEI）', '').replace('（MI）', '').replace('小米小米', '小米').replace('（MEIZU）', '').replace('魅族魅族', '魅族')\\\n",
    "        .replace('一加一加', '一加').replace('realmerealme ', 'realme').replace('（smartisan）', '').replace('vivovivo', 'vivo')\n",
    "    name = clearName(name)\n",
    "    if name:\n",
    "        w.writerow([store, name, sales, price])\n",
    "f.close()"
   ]
  },
  {
   "cell_type": "code",
   "execution_count": null,
   "metadata": {},
   "outputs": [],
   "source": []
  }
 ],
 "metadata": {
  "kernelspec": {
   "display_name": "Python 3",
   "language": "python",
   "name": "python3"
  },
  "language_info": {
   "codemirror_mode": {
    "name": "ipython",
    "version": 3
   },
   "file_extension": ".py",
   "mimetype": "text/x-python",
   "name": "python",
   "nbconvert_exporter": "python",
   "pygments_lexer": "ipython3",
   "version": "3.6.9"
  }
 },
 "nbformat": 4,
 "nbformat_minor": 4
}
